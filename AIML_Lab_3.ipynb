{
  "nbformat": 4,
  "nbformat_minor": 0,
  "metadata": {
    "colab": {
      "provenance": []
    },
    "kernelspec": {
      "name": "python3",
      "display_name": "Python 3"
    },
    "language_info": {
      "name": "python"
    }
  },
  "cells": [
    {
      "cell_type": "code",
      "execution_count": 1,
      "metadata": {
        "colab": {
          "base_uri": "https://localhost:8080/"
        },
        "id": "-Y3zqxJKX57b",
        "outputId": "3a1a35a8-07f3-411c-e57c-81fae7d2272a"
      },
      "outputs": [
        {
          "output_type": "stream",
          "name": "stdout",
          "text": [
            "['B', 'A', 'C', 'D', 'E', 'H', 'G', 'F']\n"
          ]
        }
      ],
      "source": [
        "graph = {\n",
        "    'A': ['B', 'C', 'G'],\n",
        "    'B': ['A'],\n",
        "    'C': ['A', 'D', 'F'],\n",
        "    'D': ['A', 'C', 'E', 'H'],\n",
        "    'E': ['D', 'H', 'F'],\n",
        "    'F': ['C', 'E'],\n",
        "    'G': ['A', 'D', 'H'],\n",
        "    'H': ['D', 'G', 'E'],\n",
        "}\n",
        "\n",
        "def dfs(graph, node, visited):\n",
        "    if node not in visited:\n",
        "        visited.append(node)\n",
        "        for k in graph[node]:\n",
        "            dfs(graph, k, visited)\n",
        "    return visited\n",
        "\n",
        "visited = dfs(graph, 'B', [])\n",
        "print(visited)\n"
      ]
    }
  ]
}